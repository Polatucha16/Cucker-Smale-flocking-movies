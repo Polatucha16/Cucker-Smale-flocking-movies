{
 "cells": [
  {
   "cell_type": "code",
   "execution_count": 2,
   "id": "2a790278-6b58-4f99-83a3-e28ae1f4bde2",
   "metadata": {},
   "outputs": [],
   "source": [
    "import Solve_ODE_classes as scls\n",
    "from rhs_functions import comm_weight"
   ]
  },
  {
   "cell_type": "code",
   "execution_count": 3,
   "id": "848f2529-b091-43dc-8151-2ba91f37cfc1",
   "metadata": {},
   "outputs": [],
   "source": [
    "const = scls.Const(N=10, k=4, fps=30, speed=0.1)\n",
    "setup = scls.Setup(const, seed=13456769, t0=0.0, duration=2, newQ=False).make_ic()"
   ]
  },
  {
   "cell_type": "code",
   "execution_count": 5,
   "id": "7c5ce8f6-6ed0-42aa-bcb6-1f49f090defe",
   "metadata": {},
   "outputs": [
    {
     "name": "stdout",
     "output_type": "stream",
     "text": [
      "Invoke the solver_ivp.\n",
      "The solver successfully reached the end of the integration interval.\n"
     ]
    }
   ],
   "source": [
    "# solving differential equation Runge–Kutta methods\n",
    "solve = scls.Solve(setup)\n",
    "ode_bunch, pts = solve.CS(comm_weight=comm_weight, prediction_parameter= 0)"
   ]
  },
  {
   "cell_type": "code",
   "execution_count": null,
   "id": "250227ba-6637-40de-b009-a0c87b283b3a",
   "metadata": {},
   "outputs": [],
   "source": [
    "# Save drawings and produce a video with ffmpg in /data/\"current:datetime\" file\n",
    "pic = scls.Draw(solve)\n",
    "pic.draw_and_save(pts, 6)"
   ]
  },
  {
   "cell_type": "code",
   "execution_count": 19,
   "id": "4d88be6d-6e50-49cc-a58b-43c137296e7a",
   "metadata": {
    "tags": []
   },
   "outputs": [
    {
     "data": {
      "text/plain": [
       "<matplotlib.collections.PathCollection at 0x24938b26490>"
      ]
     },
     "execution_count": 19,
     "metadata": {},
     "output_type": "execute_result"
    },
    {
     "data": {
      "image/png": "[encoded data removed]",
      "text/plain": [
       "<Figure size 640x480 with 1 Axes>"
      ]
     },
     "metadata": {},
     "output_type": "display_data"
    }
   ],
   "source": [
    "# Variable *pts stores birds and their velocities.\n",
    "# pts.shape is (600, 10, 4), this can be interpreted as a\n",
    "# list of 600 matrieces of the shape: 10 rows by 4 columns\n",
    "# In this model it means solution have 600 time-points becasue of: \n",
    "#     30 frames per second with speed 0.1 for 2 seconds.\n",
    "# To plot birds at particular time choose number from 0 to 599 and\n",
    "# use example below (this is 75th matrix which is time = 75/600 * 2 = 0.25):\n",
    "\n",
    "# Notice that pts are not bounded to square (0,1)x(0,1)\n",
    "# to properly draw their behaviour one should use np.divmod()[1]\n",
    "# import numpy as np\n",
    "# plt.scatter(*np.divmod(pts[75,:,:2],1)[1].T)\n",
    "\n",
    "from matplotlib import pyplot as plt\n",
    "plt.scatter(*pts[75,:,:2].T)"
   ]
  },
  {
   "cell_type": "code",
   "execution_count": 14,
   "id": "df539185-8a68-4347-bab3-26b3e3b88922",
   "metadata": {},
   "outputs": [
    {
     "data": {
      "text/plain": [
       "{'N': 10,\n",
       " 'k': 4,\n",
       " 'fps': 30,\n",
       " 'speed': 0.1,\n",
       " 'seed': 13456769,\n",
       " 'newQ': False,\n",
       " 'rng': Generator(PCG64) at 0x249365352E0,\n",
       " 't0': 0.0,\n",
       " 'duration': 2,\n",
       " 'const_parent': <Solve_ODE_classes.Const at 0x2493653dfa0>,\n",
       " 'y0': array([[ 0.04264657,  0.18776176,  4.22513922, -0.45555593],\n",
       "        [ 0.33687443,  0.94186887, -2.10768163, -0.55035746],\n",
       "        [ 0.99336777,  0.54186024,  3.20241479, -1.24167673],\n",
       "        [ 0.30427981,  0.34276173,  2.95556239,  4.40824844],\n",
       "        [ 0.3931173 ,  0.83528706, -9.78267104,  3.05782944],\n",
       "        [ 0.81640945,  0.13420054,  2.40125994, -4.65323442],\n",
       "        [ 0.31968366,  0.33791706,  6.6521475 ,  0.65731407],\n",
       "        [ 0.16726258,  0.48789353,  0.19342167, -0.32559716],\n",
       "        [ 0.50139504,  0.40785218, -2.33011567, -5.91143153],\n",
       "        [ 0.79258224,  0.16640484,  1.35803213, -1.6260455 ]]),\n",
       " 'm': array([1., 1., 1., 1., 1., 1., 1., 1., 1., 1.]),\n",
       " 'setup_parent': <Solve_ODE_classes.Setup at 0x24933de1190>}"
      ]
     },
     "execution_count": 14,
     "metadata": {},
     "output_type": "execute_result"
    }
   ],
   "source": [
    "# what is stored in *solve object: \n",
    "solve.__dict__"
   ]
  },
  {
   "cell_type": "code",
   "execution_count": null,
   "id": "f62db6e8-2434-48f0-bff0-219d1fd18edc",
   "metadata": {},
   "outputs": [],
   "source": []
  }
 ],
 "metadata": {
  "kernelspec": {
   "display_name": "Python 3 (ipykernel)",
   "language": "python",
   "name": "python3"
  },
  "language_info": {
   "codemirror_mode": {
    "name": "ipython",
    "version": 3
   },
   "file_extension": ".py",
   "mimetype": "text/x-python",
   "name": "python",
   "nbconvert_exporter": "python",
   "pygments_lexer": "ipython3",
   "version": "3.9.12"
  }
 },
 "nbformat": 4,
 "nbformat_minor": 5
}
