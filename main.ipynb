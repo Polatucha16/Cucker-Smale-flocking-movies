{
 "cells": [
  {
   "cell_type": "code",
   "execution_count": 1,
   "id": "2a790278-6b58-4f99-83a3-e28ae1f4bde2",
   "metadata": {},
   "outputs": [],
   "source": [
    "import Solve_ODE_classes as scls\n",
    "from rhs_functions import comm_weight"
   ]
  },
  {
   "cell_type": "code",
   "execution_count": 2,
   "id": "848f2529-b091-43dc-8151-2ba91f37cfc1",
   "metadata": {},
   "outputs": [],
   "source": [
    "const = scls.Const(N=10, k=4, fps=30, speed=0.1)\n",
    "setup = scls.Setup(const, seed=13456769, t0=0.0, duration=2, newQ=False).make_ic()\n",
    "solve = scls.Solve(setup)\n",
    "pic = scls.Draw(solve)"
   ]
  },
  {
   "cell_type": "code",
   "execution_count": 3,
   "id": "7c5ce8f6-6ed0-42aa-bcb6-1f49f090defe",
   "metadata": {},
   "outputs": [
    {
     "name": "stdout",
     "output_type": "stream",
     "text": [
      "Invoke the solver_ivp.\n",
      "The solver successfully reached the end of the integration interval.\n"
     ]
    }
   ],
   "source": [
    "solve = scls.Solve(setup)\n",
    "ode_bunch, pts = solve.CS(comm_weight=comm_weight, prediction_parameter= 0)"
   ]
  },
  {
   "cell_type": "code",
   "execution_count": 4,
   "id": "250227ba-6637-40de-b009-a0c87b283b3a",
   "metadata": {},
   "outputs": [
    {
     "name": "stderr",
     "output_type": "stream",
     "text": [
      "100%|████████████████████████████████████████████████████████████████████████████████| 600/600 [00:29<00:00, 20.56it/s]\n"
     ]
    },
    {
     "data": {
      "text/plain": [
       "WindowsPath('D:/Users/jg255/JupyterProjects/CS_on_torus_3/ver6/data/20220920032022/images')"
      ]
     },
     "execution_count": 4,
     "metadata": {},
     "output_type": "execute_result"
    }
   ],
   "source": [
    "# pic = scls.Draw(solve)\n",
    "pic.draw_and_save(pts, 6)"
   ]
  },
  {
   "cell_type": "code",
   "execution_count": 32,
   "id": "f314cbe0-e01e-410d-a50e-22a2ee24038b",
   "metadata": {},
   "outputs": [],
   "source": [
    "const = scls.Const(N=3, k=2, fps=30, speed=0.1)\n",
    "setup = scls.Setup(const, seed=13456769, t0=0.0, duration=5, newQ=False).make_ic()"
   ]
  },
  {
   "cell_type": "code",
   "execution_count": 7,
   "id": "22ed3c74-8ef3-4c77-9905-670000d738ea",
   "metadata": {},
   "outputs": [
    {
     "data": {
      "text/plain": [
       "{'N': 10,\n",
       " 'k': 4,\n",
       " 'fps': 30,\n",
       " 'speed': 0.1,\n",
       " 'seed': 13456769,\n",
       " 'newQ': False,\n",
       " 'rng': Generator(PCG64) at 0x15BD6A23D60,\n",
       " 't0': 0.0,\n",
       " 'duration': 2,\n",
       " 'const_parent': <Solve_ODE_classes.Const at 0x15bd6a11550>,\n",
       " 'y0': array([[ 0.04264657,  0.18776176,  4.22513922, -0.45555593],\n",
       "        [ 0.33687443,  0.94186887, -2.10768163, -0.55035746],\n",
       "        [ 0.99336777,  0.54186024,  3.20241479, -1.24167673],\n",
       "        [ 0.30427981,  0.34276173,  2.95556239,  4.40824844],\n",
       "        [ 0.3931173 ,  0.83528706, -9.78267104,  3.05782944],\n",
       "        [ 0.81640945,  0.13420054,  2.40125994, -4.65323442],\n",
       "        [ 0.31968366,  0.33791706,  6.6521475 ,  0.65731407],\n",
       "        [ 0.16726258,  0.48789353,  0.19342167, -0.32559716],\n",
       "        [ 0.50139504,  0.40785218, -2.33011567, -5.91143153],\n",
       "        [ 0.79258224,  0.16640484,  1.35803213, -1.6260455 ]]),\n",
       " 'm': array([1., 1., 1., 1., 1., 1., 1., 1., 1., 1.]),\n",
       " 'setup_parent': <Solve_ODE_classes.Setup at 0x15bd634df40>,\n",
       " 'solve_parent': <Solve_ODE_classes.Solve at 0x15bd6a516a0>}"
      ]
     },
     "execution_count": 7,
     "metadata": {},
     "output_type": "execute_result"
    }
   ],
   "source": [
    "pic.__dict__"
   ]
  },
  {
   "cell_type": "code",
   "execution_count": 26,
   "id": "dbad8736-e6bf-40f4-9886-efcefca1eb57",
   "metadata": {},
   "outputs": [],
   "source": [
    "solve = scls.Solve(setup)"
   ]
  },
  {
   "cell_type": "code",
   "execution_count": 25,
   "id": "4d88be6d-6e50-49cc-a58b-43c137296e7a",
   "metadata": {
    "tags": []
   },
   "outputs": [
    {
     "data": {
      "text/plain": [
       "<matplotlib.collections.PathCollection at 0x20dfd8b1d00>"
      ]
     },
     "execution_count": 25,
     "metadata": {},
     "output_type": "execute_result"
    },
    {
     "data": {
      "image/png": "[encoded data removed]",
      "text/plain": [
       "<Figure size 640x480 with 1 Axes>"
      ]
     },
     "metadata": {},
     "output_type": "display_data"
    }
   ],
   "source": [
    "from matplotlib import pyplot as plt\n",
    "# plt.ion()\n",
    "# plt.show(block = False)\n",
    "plt.scatter(*pts[1400,:,:2].T)"
   ]
  },
  {
   "cell_type": "code",
   "execution_count": 14,
   "id": "f1e94cfb-c77d-4cc9-bb55-d002c3d8eb8e",
   "metadata": {},
   "outputs": [
    {
     "data": {
      "text/plain": [
       "30"
      ]
     },
     "execution_count": 14,
     "metadata": {},
     "output_type": "execute_result"
    }
   ],
   "source": [
    "# len(pts[4])"
   ]
  },
  {
   "cell_type": "code",
   "execution_count": 8,
   "id": "412745cd-1930-4e00-8a29-e9b049eb0123",
   "metadata": {
    "tags": []
   },
   "outputs": [
    {
     "data": {
      "text/plain": [
       "{'N': 30,\n",
       " 'k': 4,\n",
       " 'fps': 30,\n",
       " 'speed': 0.2,\n",
       " 'seed': 12349,\n",
       " 'rng': Generator(PCG64) at 0x2068B39E200,\n",
       " 'newQ': True,\n",
       " 'y0': array([[ 4.81407075e-01,  4.38628064e-01, -3.81236981e+00,\n",
       "         -7.30088734e-03],\n",
       "        [ 5.97098222e-01,  5.01939760e-01, -1.82682069e+00,\n",
       "         -5.57110736e+00],\n",
       "        [ 5.30880955e-01,  4.91260682e-01, -8.16369050e+00,\n",
       "          1.96562732e+00],\n",
       "        [ 4.45109112e-01,  4.44084374e-01,  4.23493908e+00,\n",
       "          2.56963249e+00],\n",
       "        [ 4.25364223e-01,  4.55367177e-01,  3.69923397e+00,\n",
       "          1.81707519e+00],\n",
       "        [ 5.26061768e-01,  4.33568345e-01, -3.52175650e+00,\n",
       "          1.14896788e+01],\n",
       "        [ 5.29504812e-01,  4.19315436e-01,  4.57588803e+00,\n",
       "          3.05306163e+00],\n",
       "        [ 5.45217683e-01,  4.98192551e-01,  2.67272639e+00,\n",
       "         -2.33527651e+00],\n",
       "        [ 5.55962764e-01,  4.74761703e-01,  6.66770005e+00,\n",
       "          2.38534303e+00],\n",
       "        [ 5.78059551e-01,  5.74013938e-01, -4.51156603e+00,\n",
       "          1.20896477e+00],\n",
       "        [ 5.58000887e-01,  4.10596279e-01,  2.53697112e+00,\n",
       "         -3.12586763e+00],\n",
       "        [ 4.97717584e-01,  5.84979377e-01,  2.62611832e+00,\n",
       "          2.93684593e+00],\n",
       "        [ 4.50968487e-01,  4.53935485e-01, -2.11464459e+00,\n",
       "         -2.00280561e+00],\n",
       "        [ 5.53467784e-01,  4.62647172e-01, -3.36034061e+00,\n",
       "          1.50933669e+00],\n",
       "        [ 5.00461735e-01,  5.29139466e-01, -2.48530087e-01,\n",
       "         -5.58442440e+00],\n",
       "        [ 4.19426213e-01,  4.22838514e-01,  4.25998091e+00,\n",
       "         -3.00516739e+00],\n",
       "        [ 4.91094226e-01,  5.67542776e-01, -2.98740005e+00,\n",
       "          2.57705602e+00],\n",
       "        [ 5.27643907e-01,  5.66781546e-01, -4.23092918e+00,\n",
       "         -1.10199422e+00],\n",
       "        [ 5.33639774e-01,  4.94363554e-01, -1.50124717e+00,\n",
       "         -5.89318452e+00],\n",
       "        [ 5.43870414e-01,  5.13911107e-01, -2.79441100e+00,\n",
       "          2.03012217e+00],\n",
       "        [ 5.75114813e-01,  4.92307358e-01,  2.50663340e-01,\n",
       "          6.29544628e+00],\n",
       "        [ 4.05993455e-01,  4.65486642e-01, -5.14396737e+00,\n",
       "         -4.01225580e-03],\n",
       "        [ 5.74034462e-01,  5.96879893e-01, -2.33528950e+00,\n",
       "          1.92481933e+00],\n",
       "        [ 5.89948127e-01,  4.33119636e-01,  1.01553744e+00,\n",
       "         -3.16575488e-01],\n",
       "        [ 5.10441605e-01,  5.14735741e-01, -9.61745313e+00,\n",
       "          2.17596177e+00],\n",
       "        [ 5.33946350e-01,  5.16716674e-01, -4.10164686e+00,\n",
       "          2.49558166e+00],\n",
       "        [ 5.96014779e-01,  4.28731741e-01,  4.25887198e+00,\n",
       "         -2.23158429e+00],\n",
       "        [ 5.50923434e-01,  5.84243145e-01, -5.08356019e+00,\n",
       "         -2.66309495e-01],\n",
       "        [ 4.08672226e-01,  4.84096203e-01, -7.71763058e+00,\n",
       "         -6.15195791e+00],\n",
       "        [ 4.05355037e-01,  5.56236896e-01,  1.89079700e-01,\n",
       "          5.92539132e+00]]),\n",
       " 't0': 0,\n",
       " 'duration': 2,\n",
       " 'm': array([1., 1., 1., 1., 1., 1., 1., 1., 1., 1., 1., 1., 1., 1., 1., 1., 1.,\n",
       "        1., 1., 1., 1., 1., 1., 1., 1., 1., 1., 1., 1., 1.]),\n",
       " 'const_parent': <Solve_ODE_classes.Const at 0x2068b399970>}"
      ]
     },
     "execution_count": 8,
     "metadata": {},
     "output_type": "execute_result"
    }
   ],
   "source": [
    "setup.make_ic(t0=0, duration=2,newQ=True).__dict__"
   ]
  },
  {
   "cell_type": "code",
   "execution_count": 15,
   "id": "3a8068b2-88f9-4dd6-8f2f-817a8924e17d",
   "metadata": {},
   "outputs": [
    {
     "data": {
      "text/plain": [
       "{'N': 30,\n",
       " 'k': 4,\n",
       " 'fps': 30,\n",
       " 'speed': 0.2,\n",
       " 'seed': 12349,\n",
       " 'rng': Generator(PCG64) at 0x2068B39EBA0,\n",
       " 'newQ': True,\n",
       " 'y0': array([[  0.46057239,   0.54380687, -11.18443756,   7.89032696],\n",
       "        [  0.43369298,   0.50318383,  -2.95407689,  -4.67462848],\n",
       "        [  0.54596432,   0.41801914,  -2.53940998,   1.99003841],\n",
       "        [  0.54807614,   0.54559559,   0.85146894,   0.59142558],\n",
       "        [  0.43968212,   0.53291053,   3.37620711,  -5.47094659],\n",
       "        [  0.55263818,   0.53551178,  -4.36301307,  -1.14259029],\n",
       "        [  0.45606921,   0.59374733,   3.08948154,   0.08288538],\n",
       "        [  0.54335935,   0.48993029,   8.37694801,   2.59926631],\n",
       "        [  0.4892801 ,   0.5275751 ,   1.93851036,  -4.78179063],\n",
       "        [  0.50338143,   0.59916189,   0.08847475,  11.36226467],\n",
       "        [  0.56816417,   0.45197767,  12.41768954,   2.54112817],\n",
       "        [  0.500294  ,   0.4428371 ,   0.2944762 ,   7.68223483],\n",
       "        [  0.45915392,   0.50575721,   2.42409272,  -3.70867179],\n",
       "        [  0.45503304,   0.53854227,   1.13685278,  -0.28743496],\n",
       "        [  0.52237388,   0.4759442 ,   2.06327718,   6.10070464],\n",
       "        [  0.46640495,   0.40398773,  -2.67861509,  -1.94815743],\n",
       "        [  0.4054103 ,   0.55724641,   4.37095563,  -2.92999555],\n",
       "        [  0.57906699,   0.56128652,   1.06824534,  -5.69108164],\n",
       "        [  0.55932153,   0.53849936,   2.64868055,   0.76024069],\n",
       "        [  0.54348092,   0.40900516,   0.94859862,  -4.47852502],\n",
       "        [  0.48427717,   0.4963652 ,  -8.86723262,  -2.57195869],\n",
       "        [  0.59219651,   0.5259214 ,  -0.34999282,  -0.48092303],\n",
       "        [  0.50550023,   0.44579229,   0.66161255,  -6.57948654],\n",
       "        [  0.4194968 ,   0.4332047 ,  -3.35494682,  -6.21614221],\n",
       "        [  0.53028365,   0.54806138,   2.86695179,  -4.12141813],\n",
       "        [  0.52417616,   0.42766977,   4.92145635,  -1.72820741],\n",
       "        [  0.49837592,   0.54502264,  -6.08556448,  -3.98776656],\n",
       "        [  0.58534995,   0.59316903,   4.31144584,  -2.12422694],\n",
       "        [  0.52961868,   0.51869527,   0.91349307,  -5.13871398],\n",
       "        [  0.52526084,   0.45075627,   1.75674017,   3.36616651]]),\n",
       " 't0': 0,\n",
       " 'duration': 2,\n",
       " 'm': array([1., 1., 1., 1., 1., 1., 1., 1., 1., 1., 1., 1., 1., 1., 1., 1., 1.,\n",
       "        1., 1., 1., 1., 1., 1., 1., 1., 1., 1., 1., 1., 1.]),\n",
       " 'const_parent': <Solve_ODE_classes.Const at 0x2068b3990a0>,\n",
       " 'setup_parent': <Solve_ODE_classes.Setup at 0x2068b399af0>}"
      ]
     },
     "execution_count": 15,
     "metadata": {},
     "output_type": "execute_result"
    }
   ],
   "source": [
    "chuj = scls.Solve(setup)\n",
    "chuj.__dict__"
   ]
  },
  {
   "cell_type": "code",
   "execution_count": 14,
   "id": "0fe8da09-1399-4933-8875-4575985ff4a0",
   "metadata": {},
   "outputs": [
    {
     "data": {
      "text/plain": [
       "{'N': 30,\n",
       " 'k': 4,\n",
       " 'fps': 30,\n",
       " 'speed': 0.2,\n",
       " 'seed': 12349,\n",
       " 'rng': Generator(PCG64) at 0x2068B39ED60,\n",
       " 'newQ': True,\n",
       " 'y0': array([[ 4.81407075e-01,  4.38628064e-01, -3.81236981e+00,\n",
       "         -7.30088734e-03],\n",
       "        [ 5.97098222e-01,  5.01939760e-01, -1.82682069e+00,\n",
       "         -5.57110736e+00],\n",
       "        [ 5.30880955e-01,  4.91260682e-01, -8.16369050e+00,\n",
       "          1.96562732e+00],\n",
       "        [ 4.45109112e-01,  4.44084374e-01,  4.23493908e+00,\n",
       "          2.56963249e+00],\n",
       "        [ 4.25364223e-01,  4.55367177e-01,  3.69923397e+00,\n",
       "          1.81707519e+00],\n",
       "        [ 5.26061768e-01,  4.33568345e-01, -3.52175650e+00,\n",
       "          1.14896788e+01],\n",
       "        [ 5.29504812e-01,  4.19315436e-01,  4.57588803e+00,\n",
       "          3.05306163e+00],\n",
       "        [ 5.45217683e-01,  4.98192551e-01,  2.67272639e+00,\n",
       "         -2.33527651e+00],\n",
       "        [ 5.55962764e-01,  4.74761703e-01,  6.66770005e+00,\n",
       "          2.38534303e+00],\n",
       "        [ 5.78059551e-01,  5.74013938e-01, -4.51156603e+00,\n",
       "          1.20896477e+00],\n",
       "        [ 5.58000887e-01,  4.10596279e-01,  2.53697112e+00,\n",
       "         -3.12586763e+00],\n",
       "        [ 4.97717584e-01,  5.84979377e-01,  2.62611832e+00,\n",
       "          2.93684593e+00],\n",
       "        [ 4.50968487e-01,  4.53935485e-01, -2.11464459e+00,\n",
       "         -2.00280561e+00],\n",
       "        [ 5.53467784e-01,  4.62647172e-01, -3.36034061e+00,\n",
       "          1.50933669e+00],\n",
       "        [ 5.00461735e-01,  5.29139466e-01, -2.48530087e-01,\n",
       "         -5.58442440e+00],\n",
       "        [ 4.19426213e-01,  4.22838514e-01,  4.25998091e+00,\n",
       "         -3.00516739e+00],\n",
       "        [ 4.91094226e-01,  5.67542776e-01, -2.98740005e+00,\n",
       "          2.57705602e+00],\n",
       "        [ 5.27643907e-01,  5.66781546e-01, -4.23092918e+00,\n",
       "         -1.10199422e+00],\n",
       "        [ 5.33639774e-01,  4.94363554e-01, -1.50124717e+00,\n",
       "         -5.89318452e+00],\n",
       "        [ 5.43870414e-01,  5.13911107e-01, -2.79441100e+00,\n",
       "          2.03012217e+00],\n",
       "        [ 5.75114813e-01,  4.92307358e-01,  2.50663340e-01,\n",
       "          6.29544628e+00],\n",
       "        [ 4.05993455e-01,  4.65486642e-01, -5.14396737e+00,\n",
       "         -4.01225580e-03],\n",
       "        [ 5.74034462e-01,  5.96879893e-01, -2.33528950e+00,\n",
       "          1.92481933e+00],\n",
       "        [ 5.89948127e-01,  4.33119636e-01,  1.01553744e+00,\n",
       "         -3.16575488e-01],\n",
       "        [ 5.10441605e-01,  5.14735741e-01, -9.61745313e+00,\n",
       "          2.17596177e+00],\n",
       "        [ 5.33946350e-01,  5.16716674e-01, -4.10164686e+00,\n",
       "          2.49558166e+00],\n",
       "        [ 5.96014779e-01,  4.28731741e-01,  4.25887198e+00,\n",
       "         -2.23158429e+00],\n",
       "        [ 5.50923434e-01,  5.84243145e-01, -5.08356019e+00,\n",
       "         -2.66309495e-01],\n",
       "        [ 4.08672226e-01,  4.84096203e-01, -7.71763058e+00,\n",
       "         -6.15195791e+00],\n",
       "        [ 4.05355037e-01,  5.56236896e-01,  1.89079700e-01,\n",
       "          5.92539132e+00]]),\n",
       " 't0': 0,\n",
       " 'duration': 2,\n",
       " 'm': array([1., 1., 1., 1., 1., 1., 1., 1., 1., 1., 1., 1., 1., 1., 1., 1., 1.,\n",
       "        1., 1., 1., 1., 1., 1., 1., 1., 1., 1., 1., 1., 1.]),\n",
       " 'const_parent': <Solve_ODE_classes.Const at 0x2068b3990a0>}"
      ]
     },
     "execution_count": 14,
     "metadata": {},
     "output_type": "execute_result"
    }
   ],
   "source": [
    "setup.__dict__"
   ]
  },
  {
   "cell_type": "code",
   "execution_count": null,
   "id": "dc9bfda0-6813-4a23-be60-111d15b8cd3b",
   "metadata": {},
   "outputs": [],
   "source": []
  }
 ],
 "metadata": {
  "kernelspec": {
   "display_name": "Python 3 (ipykernel)",
   "language": "python",
   "name": "python3"
  },
  "language_info": {
   "codemirror_mode": {
    "name": "ipython",
    "version": 3
   },
   "file_extension": ".py",
   "mimetype": "text/x-python",
   "name": "python",
   "nbconvert_exporter": "python",
   "pygments_lexer": "ipython3",
   "version": "3.9.12"
  }
 },
 "nbformat": 4,
 "nbformat_minor": 5
}
