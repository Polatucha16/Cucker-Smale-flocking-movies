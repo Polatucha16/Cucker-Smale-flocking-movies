{
 "cells": [
  {
   "cell_type": "code",
   "execution_count": 1,
   "id": "1179eea7-2e03-4831-a709-2c1bf7d2e0c7",
   "metadata": {},
   "outputs": [],
   "source": [
    "import solveclasses as solcls"
   ]
  },
  {
   "cell_type": "code",
   "execution_count": 2,
   "id": "3943b867-d629-4c50-849a-17edbbbf7c6a",
   "metadata": {},
   "outputs": [
    {
     "name": "stdout",
     "output_type": "stream",
     "text": [
      "Invoke the solver_ivp.\n",
      "The solver successfully reached the end of the integration interval.\n"
     ]
    },
    {
     "name": "stderr",
     "output_type": "stream",
     "text": [
      "100%|█████████████████████████████████████████████████████████████████████████████| 1500/1500 [00:13<00:00, 111.81it/s]\n"
     ]
    }
   ],
   "source": [
    "ic = solcls.InitialCondition(number_of_birds = 30, k_closest = 4, seed=12301)\n",
    "N, k, rng, m, y0 = ic.N, ic.k, ic.rng, ic.mass(low=0.9, high=1.1), ic.y_init(ic.rng,speed=4, newQ=True)\n",
    "t_start, t_stop = 0, 0.25\n",
    "ode_bunch = solcls.Solve(y0, k_closest=k, t_start=t_start, t_stop=t_stop).CS(m, prediction_parameter=0.05)\n",
    "\n",
    "datpts = solcls.DataPrepare(N, k_closest=k, fps=60, speed=0.05)\n",
    "y, neigh = datpts.prepare(ode_bunch)"
   ]
  },
  {
   "cell_type": "code",
   "execution_count": 3,
   "id": "bab24c71-7ab8-4241-870a-56171d58005b",
   "metadata": {},
   "outputs": [
    {
     "name": "stderr",
     "output_type": "stream",
     "text": [
      "100%|██████████████████████████████████████████████████████████████████████████████| 1500/1500 [01:25<00:00, 17.64it/s]\n"
     ]
    }
   ],
   "source": [
    "draw = solcls.Draw(y, neigh)\n",
    "# p = draw.draw(2, 11, saveQ = False)\n",
    "p = draw.draw(6, 4, saveQ = True)\n",
    "\n"
   ]
  },
  {
   "cell_type": "code",
   "execution_count": null,
   "id": "54b161a1-2cf4-4ae4-ba16-d60482440232",
   "metadata": {},
   "outputs": [],
   "source": [
    "\"\"\" For comparison of two behaviours with differetnt predition_parameter use ffmpeg command:\n",
    "        ffmpeg -i left.mp4 -i right.mp4 -filter_complex hstack output.mp4\n",
    "    \"\"\"\n",
    "# %store -r y\n",
    "# %store -r neigh"
   ]
  },
  {
   "cell_type": "code",
   "execution_count": 1,
   "id": "8687a91f-a675-46c3-b5c9-6c74d3060ad3",
   "metadata": {},
   "outputs": [],
   "source": []
  }
 ],
 "metadata": {
  "kernelspec": {
   "display_name": "Python 3 (ipykernel)",
   "language": "python",
   "name": "python3"
  },
  "language_info": {
   "codemirror_mode": {
    "name": "ipython",
    "version": 3
   },
   "file_extension": ".py",
   "mimetype": "text/x-python",
   "name": "python",
   "nbconvert_exporter": "python",
   "pygments_lexer": "ipython3",
   "version": "3.9.12"
  }
 },
 "nbformat": 4,
 "nbformat_minor": 5
}
